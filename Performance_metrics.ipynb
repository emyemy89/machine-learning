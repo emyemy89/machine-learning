{
 "cells": [
  {
   "cell_type": "markdown",
   "id": "82b998a9-45a2-4653-bcf0-82f2a5f57b89",
   "metadata": {},
   "source": [
    "# Performance metrics on classification problems\n",
    "For better understanding when to use true positive/true negative  "
   ]
  },
  {
   "cell_type": "code",
   "execution_count": 1,
   "id": "14a4b49c-a89f-4d50-8a9b-791f3e7de2a2",
   "metadata": {},
   "outputs": [],
   "source": [
    "from sklearn import metrics"
   ]
  },
  {
   "cell_type": "code",
   "execution_count": 2,
   "id": "792c2e8f-fa94-4e02-beaf-51569f766b76",
   "metadata": {},
   "outputs": [],
   "source": [
    "# consider 3 cattegories:\n",
    "C=\"Cat\"\n",
    "D='Dog'\n",
    "F=\"Fox\""
   ]
  },
  {
   "cell_type": "code",
   "execution_count": 3,
   "id": "f424071f-1179-460e-a651-66ec85a12278",
   "metadata": {},
   "outputs": [
    {
     "name": "stdout",
     "output_type": "stream",
     "text": [
      "[[4 1 1]\n",
      " [3 6 0]\n",
      " [6 2 2]]\n",
      "              precision    recall  f1-score   support\n",
      "\n",
      "         Cat      0.308     0.667     0.421         6\n",
      "         Dog      0.667     0.667     0.667         9\n",
      "         Fox      0.667     0.200     0.308        10\n",
      "\n",
      "    accuracy                          0.480        25\n",
      "   macro avg      0.547     0.511     0.465        25\n",
      "weighted avg      0.581     0.480     0.464        25\n",
      "\n"
     ]
    }
   ],
   "source": [
    "# true values\n",
    "y_true=[C,C,C,C,C,C ,F,F,F,F,F,F,F,F,F,F, D,D,D,D,D,D,D,D,D]\n",
    "# predicted values\n",
    "y_pred=[C,C,C,C,D,F ,C,C,C,C,C,C,D,D,F,F, C,C,C,D,D,D,D,D,D]\n",
    "# print the confusion matrix\n",
    "print(metrics.confusion_matrix(y_true,y_pred))\n",
    "\n",
    "#print he precision and recall among other metrics\n",
    "print(metrics.classification_report(y_true, y_pred, digits=3))"
   ]
  },
  {
   "cell_type": "markdown",
   "id": "1e2a7abc-1d4c-4c79-ad76-a3e56332cafc",
   "metadata": {},
   "source": [
    "If we look at the matrix above, the accuracy is given by the diagonal terms multiplied minus the others.  \n",
    "The precision for Cat is the correctly predicted Cat from all predicted Cat. In the confussion matrix, the first column is all the cats predictions, so the accuracy is 4/(4+3+6)=0.308  \n",
    "Dog=0.667  \n",
    "Fox=0.667\n"
   ]
  },
  {
   "cell_type": "code",
   "execution_count": null,
   "id": "d5dd6cc8-6e2f-4f09-8776-6f47d4b559a3",
   "metadata": {},
   "outputs": [],
   "source": []
  }
 ],
 "metadata": {
  "kernelspec": {
   "display_name": "Python 3 (ipykernel)",
   "language": "python",
   "name": "python3"
  },
  "language_info": {
   "codemirror_mode": {
    "name": "ipython",
    "version": 3
   },
   "file_extension": ".py",
   "mimetype": "text/x-python",
   "name": "python",
   "nbconvert_exporter": "python",
   "pygments_lexer": "ipython3",
   "version": "3.11.7"
  }
 },
 "nbformat": 4,
 "nbformat_minor": 5
}
